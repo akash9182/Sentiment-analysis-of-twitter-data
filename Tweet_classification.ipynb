{
 "cells": [
  {
   "cell_type": "code",
   "execution_count": 21,
   "metadata": {},
   "outputs": [],
   "source": [
    "import pandas as pd\n",
    "import nltk\n",
    "import re\n",
    "import time\n",
    "from sklearn import *"
   ]
  },
  {
   "cell_type": "code",
   "execution_count": 22,
   "metadata": {},
   "outputs": [],
   "source": [
    "def dataClean(raw_tweets):\n",
    "    clean_tweets = []\n",
    "    for tweet in raw_tweets:\n",
    "        tweet = tweet.lower()\n",
    "        tweet = re.sub(r'\\w+:\\/{2}[\\d\\w-]+(\\.[\\d\\w-]+)*(?:(?:\\/[^\\s/]*))*', '',tweet) #remove urls\n",
    "        tweet = re.sub(r'@\\w+', r'', tweet) #removes username\n",
    "        tweet = re.sub(r'<[^<]+?>', r'', tweet) # removes HTML tags\n",
    "        tweet = re.sub(r'[<>!#@$:.,%\\?-]+', r'', tweet)\n",
    "        words = tweet.split()\n",
    "        tweet = ' '.join([w for w in words if not w in nltk.corpus.stopwords.words(\"english\")])\n",
    "        ps = nltk.stem.PorterStemmer()\n",
    "        stemmedTweet = [ps.stem(word) for word in tweet.split(\" \")]\n",
    "        stemmedTweet = \" \".join(stemmedTweet)\n",
    "        tweet = str(stemmedTweet)\n",
    "        tweet = tweet.replace(\"'\", \"\")\n",
    "        tweet = tweet.replace(\"\\\"\",\"\")\n",
    "        clean_tweets.append(tweet)\n",
    "    return clean_tweets"
   ]
  },
  {
   "cell_type": "code",
   "execution_count": 23,
   "metadata": {},
   "outputs": [],
   "source": [
    "# load data from sheets into dataframes\n",
    "\n",
    "trainingFile = \"data/train.xlsx\"\n",
    "df_obama = pd.read_excel(trainingFile,sheet_name='Obama')\n",
    "df_romney = pd.read_excel(trainingFile,sheet_name='Romney')"
   ]
  },
  {
   "cell_type": "code",
   "execution_count": 24,
   "metadata": {},
   "outputs": [
    {
     "data": {
      "text/html": [
       "<div>\n",
       "<style scoped>\n",
       "    .dataframe tbody tr th:only-of-type {\n",
       "        vertical-align: middle;\n",
       "    }\n",
       "\n",
       "    .dataframe tbody tr th {\n",
       "        vertical-align: top;\n",
       "    }\n",
       "\n",
       "    .dataframe thead th {\n",
       "        text-align: right;\n",
       "    }\n",
       "</style>\n",
       "<table border=\"1\" class=\"dataframe\">\n",
       "  <thead>\n",
       "    <tr style=\"text-align: right;\">\n",
       "      <th></th>\n",
       "      <th>date</th>\n",
       "      <th>time</th>\n",
       "      <th>Anootated tweet</th>\n",
       "      <th>Class</th>\n",
       "      <th>Your class</th>\n",
       "    </tr>\n",
       "  </thead>\n",
       "  <tbody>\n",
       "    <tr>\n",
       "      <th>0</th>\n",
       "      <td>2012-10-16 00:00:00</td>\n",
       "      <td>10:28:53-05:00</td>\n",
       "      <td>Kirkpatrick, who wore a baseball cap embroider...</td>\n",
       "      <td>0</td>\n",
       "      <td>NaN</td>\n",
       "    </tr>\n",
       "    <tr>\n",
       "      <th>1</th>\n",
       "      <td>2016-12-10 00:00:00</td>\n",
       "      <td>10:09:00-05:00</td>\n",
       "      <td>Question: If &lt;e&gt;Romney&lt;/e&gt; and &lt;e&gt;Obama&lt;/e&gt; ha...</td>\n",
       "      <td>2</td>\n",
       "      <td>NaN</td>\n",
       "    </tr>\n",
       "    <tr>\n",
       "      <th>2</th>\n",
       "      <td>2012-10-16 00:00:00</td>\n",
       "      <td>10:04:30-05:00</td>\n",
       "      <td>#&lt;e&gt;obama&lt;/e&gt; debates that Cracker Ass Cracker...</td>\n",
       "      <td>1</td>\n",
       "      <td>NaN</td>\n",
       "    </tr>\n",
       "    <tr>\n",
       "      <th>3</th>\n",
       "      <td>2012-10-16 00:00:00</td>\n",
       "      <td>10:00:36-05:00</td>\n",
       "      <td>RT @davewiner Slate: Blame &lt;e&gt;Obama&lt;/e&gt; for fo...</td>\n",
       "      <td>2</td>\n",
       "      <td>NaN</td>\n",
       "    </tr>\n",
       "    <tr>\n",
       "      <th>4</th>\n",
       "      <td>2012-10-16 00:00:00</td>\n",
       "      <td>09:50:08-05:00</td>\n",
       "      <td>@Hollivan @hereistheanswer  Youre missing the ...</td>\n",
       "      <td>0</td>\n",
       "      <td>NaN</td>\n",
       "    </tr>\n",
       "  </tbody>\n",
       "</table>\n",
       "</div>"
      ],
      "text/plain": [
       "                  date            time  \\\n",
       "0  2012-10-16 00:00:00  10:28:53-05:00   \n",
       "1  2016-12-10 00:00:00  10:09:00-05:00   \n",
       "2  2012-10-16 00:00:00  10:04:30-05:00   \n",
       "3  2012-10-16 00:00:00  10:00:36-05:00   \n",
       "4  2012-10-16 00:00:00  09:50:08-05:00   \n",
       "\n",
       "                                     Anootated tweet Class  Your class  \n",
       "0  Kirkpatrick, who wore a baseball cap embroider...     0         NaN  \n",
       "1  Question: If <e>Romney</e> and <e>Obama</e> ha...     2         NaN  \n",
       "2  #<e>obama</e> debates that Cracker Ass Cracker...     1         NaN  \n",
       "3  RT @davewiner Slate: Blame <e>Obama</e> for fo...     2         NaN  \n",
       "4  @Hollivan @hereistheanswer  Youre missing the ...     0         NaN  "
      ]
     },
     "execution_count": 24,
     "metadata": {},
     "output_type": "execute_result"
    }
   ],
   "source": [
    "df_obama.head()"
   ]
  },
  {
   "cell_type": "code",
   "execution_count": 25,
   "metadata": {},
   "outputs": [
    {
     "data": {
      "text/plain": [
       "date               7186\n",
       "time               7185\n",
       "Anootated tweet    7197\n",
       "Class              7193\n",
       "Your class            0\n",
       "dtype: int64"
      ]
     },
     "execution_count": 25,
     "metadata": {},
     "output_type": "execute_result"
    }
   ],
   "source": [
    "df_obama.count()"
   ]
  },
  {
   "cell_type": "code",
   "execution_count": 26,
   "metadata": {},
   "outputs": [],
   "source": [
    "a = pd.Series(df_obama['Class'],dtype='category')"
   ]
  },
  {
   "cell_type": "code",
   "execution_count": 27,
   "metadata": {},
   "outputs": [
    {
     "data": {
      "text/plain": [
       "[-1, 0, 1, 2, '-1', '0', '1', '2', 'irrelevant', 'irrevelant']"
      ]
     },
     "execution_count": 27,
     "metadata": {},
     "output_type": "execute_result"
    }
   ],
   "source": [
    "a.cat.categories.tolist()"
   ]
  },
  {
   "cell_type": "code",
   "execution_count": 28,
   "metadata": {},
   "outputs": [],
   "source": [
    "# Removing all other categories \n",
    "df_obama = df_obama[(df_obama['Class'].isin((1,0,-1)))]"
   ]
  },
  {
   "cell_type": "code",
   "execution_count": 29,
   "metadata": {},
   "outputs": [
    {
     "data": {
      "text/plain": [
       "date               5467\n",
       "time               5466\n",
       "Anootated tweet    5471\n",
       "Class              5471\n",
       "Your class            0\n",
       "dtype: int64"
      ]
     },
     "execution_count": 29,
     "metadata": {},
     "output_type": "execute_result"
    }
   ],
   "source": [
    "df_obama.count()"
   ]
  },
  {
   "cell_type": "code",
   "execution_count": 35,
   "metadata": {},
   "outputs": [],
   "source": [
    "# vectorize with tf-idf\n",
    "def vectorize(train_tweets,test_tweets):\n",
    "    vec = feature_extraction.text.TfidfVectorizer(min_df = 0.00125, max_df = 0.7, sublinear_tf=True, use_idf=True, stop_words=u'english', analyzer= 'word', ngram_range=(1,5),lowercase=True)\n",
    "    train_vectors = vec.fit_transform(train_tweets)\n",
    "    test_vectors = vec.transform(test_tweets)\n",
    "    return train_vectors, test_vectors\n",
    "    "
   ]
  },
  {
   "cell_type": "code",
   "execution_count": 36,
   "metadata": {},
   "outputs": [],
   "source": [
    "df_romney= df_romney[(df_romney['Class'].isin((1,0,-1)))]"
   ]
  },
  {
   "cell_type": "code",
   "execution_count": 37,
   "metadata": {},
   "outputs": [],
   "source": [
    "# creating lists for raw tweets and classes\n",
    "obama_raw = df_obama['Anootated tweet'].tolist()\n",
    "obama_class_train = df_obama['Class'].tolist()\n",
    "romney_raw = df_romney['Anootated tweet'].tolist()\n",
    "romney_class_train = df_romney['Class'].tolist()"
   ]
  },
  {
   "cell_type": "code",
   "execution_count": 38,
   "metadata": {},
   "outputs": [],
   "source": [
    "romney_tweets = dataClean(romney_raw) #romney tweets cleaning\n",
    "obama_tweets = dataClean(obama_raw) #obama tweets cleaning"
   ]
  },
  {
   "cell_type": "code",
   "execution_count": 42,
   "metadata": {},
   "outputs": [],
   "source": [
    "testingFile = \"data/test.xlsx\"\n",
    "df_obama_test = pd.read_excel(testingFile,sheetname='Obama')\n",
    "df_romney_test = pd.read_excel(testingFile,sheetname='Romney')\n",
    "\n",
    "#Removing the mixed class and the !!! class\n",
    "\n",
    "df_obama_test = df_obama_test[(df_obama_test['Class'].isin((1,-1,0)))]\n",
    "df_romney_test = df_romney_test[(df_romney_test['Class'].isin((1,-1,0)))]\n",
    "\n",
    "#creating lists for raw tweets and classes\n",
    "\n",
    "obama_tweets_raw_test = df_obama_test['Anootated tweet']\n",
    "obama_class_test = df_obama_test['Class']\n",
    "romney_tweets_raw_test = df_romney_test['Anootated tweet']\n",
    "romney_class_test = df_romney_test['Class']\n",
    "\n",
    "obama_tweets_raw_test = obama_tweets_raw_test.tolist()\n",
    "romney_tweets_raw_test = romney_tweets_raw_test.tolist()\n",
    "obama_class_train_test = obama_class_test.tolist()\n",
    "romney_class_train_test = romney_class_test.tolist()\n",
    "\n",
    "romney_tweets_test = dataClean(romney_tweets_raw_test) #romney tweets cleaning\n",
    "obama_tweets_test = dataClean(obama_tweets_raw_test) #obama tweets cleaning\n"
   ]
  },
  {
   "cell_type": "code",
   "execution_count": 43,
   "metadata": {},
   "outputs": [],
   "source": [
    "obama_tweets_vectors,obama_tweets_vectors_test = vectorize(obama_tweets,obama_tweets_test)\n",
    "romney_tweets_vectors,romney_tweets_vectors_test = vectorize(romney_tweets,romney_tweets_test)"
   ]
  },
  {
   "cell_type": "code",
   "execution_count": 44,
   "metadata": {},
   "outputs": [
    {
     "data": {
      "text/plain": [
       "<5471x1521 sparse matrix of type '<class 'numpy.float64'>'\n",
       "\twith 34296 stored elements in Compressed Sparse Row format>"
      ]
     },
     "execution_count": 44,
     "metadata": {},
     "output_type": "execute_result"
    }
   ],
   "source": [
    "obama_tweets_vectors"
   ]
  },
  {
   "cell_type": "code",
   "execution_count": 45,
   "metadata": {},
   "outputs": [
    {
     "data": {
      "text/plain": [
       "<1951x1521 sparse matrix of type '<class 'numpy.float64'>'\n",
       "\twith 11979 stored elements in Compressed Sparse Row format>"
      ]
     },
     "execution_count": 45,
     "metadata": {},
     "output_type": "execute_result"
    }
   ],
   "source": [
    "obama_tweets_vectors_test"
   ]
  },
  {
   "cell_type": "code",
   "execution_count": 46,
   "metadata": {},
   "outputs": [
    {
     "data": {
      "text/plain": [
       "<5648x1434 sparse matrix of type '<class 'numpy.float64'>'\n",
       "\twith 38058 stored elements in Compressed Sparse Row format>"
      ]
     },
     "execution_count": 46,
     "metadata": {},
     "output_type": "execute_result"
    }
   ],
   "source": [
    "romney_tweets_vectors"
   ]
  },
  {
   "cell_type": "code",
   "execution_count": 47,
   "metadata": {},
   "outputs": [
    {
     "data": {
      "text/plain": [
       "<1900x1434 sparse matrix of type '<class 'numpy.float64'>'\n",
       "\twith 12123 stored elements in Compressed Sparse Row format>"
      ]
     },
     "execution_count": 47,
     "metadata": {},
     "output_type": "execute_result"
    }
   ],
   "source": [
    "romney_tweets_vectors_test"
   ]
  },
  {
   "cell_type": "code",
   "execution_count": null,
   "metadata": {},
   "outputs": [],
   "source": [
    "# def train(estimator):\n",
    "#     start_time = time.clock()\n",
    "#     prediction = model_selection.cross_val_predict(estimator, obam)\n"
   ]
  },
  {
   "cell_type": "code",
   "execution_count": 53,
   "metadata": {},
   "outputs": [],
   "source": [
    "from imblearn.over_sampling import SMOTE\n",
    "from scipy import sparse\n",
    "\n",
    "obama_tweets_vectors = sparse.csr_matrix(obama_tweets_vectors)\n",
    "sm = SMOTE(random_state=101)\n",
    "obama_tweets_vectors, obama_class_train = sm.fit_sample(obama_tweets_vectors, obama_class_train)\n",
    "\n",
    "romney_tweets_vectors = sparse.csr_matrix(romney_tweets_vectors)\n",
    "sm = SMOTE(random_state=100)\n",
    "romney_tweets_vectors, romney_class_train = sm.fit_sample(romney_tweets_vectors, romney_class_train)"
   ]
  },
  {
   "cell_type": "code",
   "execution_count": 56,
   "metadata": {},
   "outputs": [],
   "source": [
    "clfs = []\n",
    "def computation_test(classification):\n",
    "    j = 0\n",
    "    start_time = time.clock()\n",
    "    clfs.append(classification)\n",
    "    clf_use = clfs[j]\n",
    "    \n",
    "    # for obama\n",
    "    clf_use.fit(obama_tweets_vectors, obama_class_train)\n",
    "    preds = clf_use.predict(obama_tweets_vectors_test.toarray())\n",
    "    accScore = metrics.accuracy_score(obama_class_train_test, preds)\n",
    "    \n",
    "    labels = [1,-1]\n",
    "    precision = metrics.precision_score(obama_class_train_test,preds,average=None,labels=labels)\n",
    "    recall = metrics.recall_score(obama_class_train_test,preds,average=None,labels=labels)\n",
    "    f1Score = metrics.f1_score(obama_class_train_test,preds,average=None,labels=labels)\n",
    "    print(classification);print(\"Obama: \\nOverall Acurracy: \",accScore,\"\\n\")\n",
    "    \n",
    "    lbl = ['positive', 'negative']\n",
    "    for i in range(2):\n",
    "        print(\"Precision of %s class: %f\" %(lbl[i],precision[i]))\n",
    "        print(\"Recall of %s class: %f\" %(lbl[i],recall[i]))\n",
    "        print(\"F1-Score of %s class: %f\" %(lbl[i],f1Score[i]),\"\\n\")\n",
    "        \n",
    "    #romney\n",
    "    #preds = model_selection.cross_val_predict(clf, romney_tweets_vectors, romney_class_train, cv=10)\n",
    "    clf_use.fit(romney_tweets_vectors, romney_class_train)\n",
    "    preds = clf_use.predict(romney_tweets_vectors_test.toarray())\n",
    "    accScore = metrics.accuracy_score(romney_class_train_test,preds)\n",
    "    labels = [1,-1]\n",
    "    precision = metrics.precision_score(romney_class_train_test,preds,average=None,labels=labels)\n",
    "    recall = metrics.recall_score(romney_class_train_test,preds,average=None,labels=labels)\n",
    "    f1Score = metrics.f1_score(romney_class_train_test,preds,average=None,labels=labels)\n",
    "    print(\"Romney:\\nOverall Acurracy: \",accScore,\"\\n\")\n",
    "    lbl = ['positive', 'negative']\n",
    "    for i in range(2):\n",
    "        print(\"Precision of %s class: %f\" %(lbl[i],precision[i]))\n",
    "        print(\"Recall of %s class: %f\" %(lbl[i],recall[i]))\n",
    "        print(\"F1-Score of %s class: %f\" %(lbl[i],f1Score[i]),\"\\n\")\n",
    "    end_time = time.clock()\n",
    "    print(\"Total time taken: %0.2f seconds \\n\\n\"%(end_time-start_time))\n",
    "    j=j+1"
   ]
  },
  {
   "cell_type": "code",
   "execution_count": 57,
   "metadata": {},
   "outputs": [
    {
     "name": "stderr",
     "output_type": "stream",
     "text": [
      "/home/jarvis/anaconda3/lib/python3.7/site-packages/ipykernel_launcher.py:4: DeprecationWarning: time.clock has been deprecated in Python 3.3 and will be removed from Python 3.8: use time.perf_counter or time.process_time instead\n",
      "  after removing the cwd from sys.path.\n",
      "/home/jarvis/anaconda3/lib/python3.7/site-packages/ipykernel_launcher.py:40: DeprecationWarning: time.clock has been deprecated in Python 3.3 and will be removed from Python 3.8: use time.perf_counter or time.process_time instead\n",
      "/home/jarvis/anaconda3/lib/python3.7/site-packages/ipykernel_launcher.py:4: DeprecationWarning: time.clock has been deprecated in Python 3.3 and will be removed from Python 3.8: use time.perf_counter or time.process_time instead\n",
      "  after removing the cwd from sys.path.\n",
      "/home/jarvis/anaconda3/lib/python3.7/site-packages/ipykernel_launcher.py:40: DeprecationWarning: time.clock has been deprecated in Python 3.3 and will be removed from Python 3.8: use time.perf_counter or time.process_time instead\n",
      "/home/jarvis/anaconda3/lib/python3.7/site-packages/ipykernel_launcher.py:4: DeprecationWarning: time.clock has been deprecated in Python 3.3 and will be removed from Python 3.8: use time.perf_counter or time.process_time instead\n",
      "  after removing the cwd from sys.path.\n",
      "/home/jarvis/anaconda3/lib/python3.7/site-packages/ipykernel_launcher.py:40: DeprecationWarning: time.clock has been deprecated in Python 3.3 and will be removed from Python 3.8: use time.perf_counter or time.process_time instead\n",
      "/home/jarvis/anaconda3/lib/python3.7/site-packages/ipykernel_launcher.py:4: DeprecationWarning: time.clock has been deprecated in Python 3.3 and will be removed from Python 3.8: use time.perf_counter or time.process_time instead\n",
      "  after removing the cwd from sys.path.\n"
     ]
    },
    {
     "name": "stdout",
     "output_type": "stream",
     "text": [
      "BernoulliNB(alpha=1.0, binarize=0.0, class_prior=None, fit_prior=True)\n",
      "Obama: \n",
      "Overall Acurracy:  0.5335725269092773 \n",
      "\n",
      "Precision of positive class: 0.528505\n",
      "Recall of positive class: 0.589347\n",
      "F1-Score of positive class: 0.557271 \n",
      "\n",
      "Precision of negative class: 0.572263\n",
      "Recall of negative class: 0.569767\n",
      "F1-Score of negative class: 0.571012 \n",
      "\n",
      "Romney:\n",
      "Overall Acurracy:  0.5573684210526316 \n",
      "\n",
      "Precision of positive class: 0.436782\n",
      "Recall of positive class: 0.690909\n",
      "F1-Score of positive class: 0.535211 \n",
      "\n",
      "Precision of negative class: 0.695107\n",
      "Recall of negative class: 0.577083\n",
      "F1-Score of negative class: 0.630620 \n",
      "\n",
      "Total time taken: 0.13 seconds \n",
      "\n",
      "\n",
      "SVC(C=0.81, cache_size=200, class_weight=None, coef0=0.0,\n",
      "  decision_function_shape='ovr', degree=3, gamma=0.58, kernel='rbf',\n",
      "  max_iter=-1, probability=False, random_state=None, shrinking=True,\n",
      "  tol=0.001, verbose=False)\n",
      "Obama: \n",
      "Overall Acurracy:  0.5335725269092773 \n",
      "\n",
      "Precision of positive class: 0.528505\n",
      "Recall of positive class: 0.589347\n",
      "F1-Score of positive class: 0.557271 \n",
      "\n",
      "Precision of negative class: 0.572263\n",
      "Recall of negative class: 0.569767\n",
      "F1-Score of negative class: 0.571012 \n",
      "\n",
      "Romney:\n",
      "Overall Acurracy:  0.5573684210526316 \n",
      "\n",
      "Precision of positive class: 0.436782\n",
      "Recall of positive class: 0.690909\n",
      "F1-Score of positive class: 0.535211 \n",
      "\n",
      "Precision of negative class: 0.695107\n",
      "Recall of negative class: 0.577083\n",
      "F1-Score of negative class: 0.630620 \n",
      "\n",
      "Total time taken: 0.12 seconds \n",
      "\n",
      "\n",
      "DecisionTreeClassifier(class_weight=None, criterion='gini', max_depth=None,\n",
      "            max_features=None, max_leaf_nodes=None,\n",
      "            min_impurity_decrease=0.0, min_impurity_split=None,\n",
      "            min_samples_leaf=1, min_samples_split=2,\n",
      "            min_weight_fraction_leaf=0.0, presort=False, random_state=0,\n",
      "            splitter='best')\n",
      "Obama: \n",
      "Overall Acurracy:  0.5335725269092773 \n",
      "\n",
      "Precision of positive class: 0.528505\n",
      "Recall of positive class: 0.589347\n",
      "F1-Score of positive class: 0.557271 \n",
      "\n",
      "Precision of negative class: 0.572263\n",
      "Recall of negative class: 0.569767\n",
      "F1-Score of negative class: 0.571012 \n",
      "\n",
      "Romney:\n",
      "Overall Acurracy:  0.5573684210526316 \n",
      "\n",
      "Precision of positive class: 0.436782\n",
      "Recall of positive class: 0.690909\n",
      "F1-Score of positive class: 0.535211 \n",
      "\n",
      "Precision of negative class: 0.695107\n",
      "Recall of negative class: 0.577083\n",
      "F1-Score of negative class: 0.630620 \n",
      "\n",
      "Total time taken: 0.11 seconds \n",
      "\n",
      "\n",
      "RandomForestClassifier(bootstrap=True, class_weight=None, criterion='entropy',\n",
      "            max_depth=None, max_features='auto', max_leaf_nodes=None,\n",
      "            min_impurity_decrease=0.0, min_impurity_split=None,\n",
      "            min_samples_leaf=1, min_samples_split=2,\n",
      "            min_weight_fraction_leaf=0.0, n_estimators='warn', n_jobs=10,\n",
      "            oob_score=False, random_state=None, verbose=0,\n",
      "            warm_start=False)\n",
      "Obama: \n",
      "Overall Acurracy:  0.5335725269092773 \n",
      "\n",
      "Precision of positive class: 0.528505\n",
      "Recall of positive class: 0.589347\n",
      "F1-Score of positive class: 0.557271 \n",
      "\n",
      "Precision of negative class: 0.572263\n",
      "Recall of negative class: 0.569767\n",
      "F1-Score of negative class: 0.571012 \n",
      "\n",
      "Romney:\n",
      "Overall Acurracy:  0.5573684210526316 \n",
      "\n",
      "Precision of positive class: 0.436782\n",
      "Recall of positive class: 0.690909\n",
      "F1-Score of positive class: 0.535211 \n",
      "\n",
      "Precision of negative class: 0.695107\n",
      "Recall of negative class: 0.577083\n",
      "F1-Score of negative class: 0.630620 \n",
      "\n",
      "Total time taken: 0.14 seconds \n",
      "\n",
      "\n",
      "LogisticRegression(C=1.0, class_weight=None, dual=False, fit_intercept=True,\n",
      "          intercept_scaling=1, max_iter=100, multi_class='warn',\n",
      "          n_jobs=None, penalty='l2', random_state=None, solver='warn',\n",
      "          tol=0.0001, verbose=0, warm_start=False)\n",
      "Obama: \n",
      "Overall Acurracy:  0.5335725269092773 \n",
      "\n",
      "Precision of positive class: 0.528505\n",
      "Recall of positive class: 0.589347\n",
      "F1-Score of positive class: 0.557271 \n",
      "\n",
      "Precision of negative class: 0.572263\n",
      "Recall of negative class: 0.569767\n",
      "F1-Score of negative class: 0.571012 \n",
      "\n",
      "Romney:\n",
      "Overall Acurracy:  0.5573684210526316 \n",
      "\n",
      "Precision of positive class: 0.436782\n",
      "Recall of positive class: 0.690909\n",
      "F1-Score of positive class: 0.535211 \n",
      "\n",
      "Precision of negative class: 0.695107\n",
      "Recall of negative class: 0.577083\n",
      "F1-Score of negative class: 0.630620 \n",
      "\n",
      "Total time taken: 0.15 seconds \n",
      "\n",
      "\n",
      "SGDClassifier(alpha=0.0001, average=False, class_weight=None,\n",
      "       early_stopping=False, epsilon=0.1, eta0=0.0, fit_intercept=True,\n",
      "       l1_ratio=0.15, learning_rate='optimal', loss='hinge', max_iter=None,\n",
      "       n_iter=None, n_iter_no_change=5, n_jobs=None, penalty='l2',\n",
      "       power_t=0.5, random_state=None, shuffle=True, tol=None,\n",
      "       validation_fraction=0.1, verbose=0, warm_start=False)\n",
      "Obama: \n",
      "Overall Acurracy:  0.5335725269092773 \n",
      "\n",
      "Precision of positive class: 0.528505\n",
      "Recall of positive class: 0.589347\n",
      "F1-Score of positive class: 0.557271 \n",
      "\n",
      "Precision of negative class: 0.572263\n",
      "Recall of negative class: 0.569767\n",
      "F1-Score of negative class: 0.571012 \n",
      "\n",
      "Romney:\n",
      "Overall Acurracy:  0.5573684210526316 \n",
      "\n",
      "Precision of positive class: 0.436782\n",
      "Recall of positive class: 0.690909\n",
      "F1-Score of positive class: 0.535211 \n",
      "\n",
      "Precision of negative class: 0.695107\n",
      "Recall of negative class: 0.577083\n",
      "F1-Score of negative class: 0.630620 \n",
      "\n",
      "Total time taken: 0.11 seconds \n",
      "\n",
      "\n",
      "GradientBoostingClassifier(criterion='friedman_mse', init=None,\n",
      "              learning_rate=0.1, loss='deviance', max_depth=3,\n",
      "              max_features=None, max_leaf_nodes=None,\n",
      "              min_impurity_decrease=0.0, min_impurity_split=None,\n",
      "              min_samples_leaf=1, min_samples_split=2,\n",
      "              min_weight_fraction_leaf=0.0, n_estimators=100,\n",
      "              n_iter_no_change=None, presort='auto', random_state=None,\n",
      "              subsample=1.0, tol=0.0001, validation_fraction=0.1,\n",
      "              verbose=0, warm_start=False)\n",
      "Obama: \n",
      "Overall Acurracy:  0.5335725269092773 \n",
      "\n",
      "Precision of positive class: 0.528505\n",
      "Recall of positive class: 0.589347\n",
      "F1-Score of positive class: 0.557271 \n",
      "\n",
      "Precision of negative class: 0.572263\n",
      "Recall of negative class: 0.569767\n",
      "F1-Score of negative class: 0.571012 \n",
      "\n",
      "Romney:\n",
      "Overall Acurracy:  0.5573684210526316 \n",
      "\n",
      "Precision of positive class: 0.436782\n",
      "Recall of positive class: 0.690909\n",
      "F1-Score of positive class: 0.535211 \n",
      "\n",
      "Precision of negative class: 0.695107\n",
      "Recall of negative class: 0.577083\n",
      "F1-Score of negative class: 0.630620 \n",
      "\n",
      "Total time taken: 0.11 seconds \n",
      "\n",
      "\n"
     ]
    },
    {
     "name": "stderr",
     "output_type": "stream",
     "text": [
      "/home/jarvis/anaconda3/lib/python3.7/site-packages/ipykernel_launcher.py:40: DeprecationWarning: time.clock has been deprecated in Python 3.3 and will be removed from Python 3.8: use time.perf_counter or time.process_time instead\n",
      "/home/jarvis/anaconda3/lib/python3.7/site-packages/ipykernel_launcher.py:4: DeprecationWarning: time.clock has been deprecated in Python 3.3 and will be removed from Python 3.8: use time.perf_counter or time.process_time instead\n",
      "  after removing the cwd from sys.path.\n",
      "/home/jarvis/anaconda3/lib/python3.7/site-packages/ipykernel_launcher.py:40: DeprecationWarning: time.clock has been deprecated in Python 3.3 and will be removed from Python 3.8: use time.perf_counter or time.process_time instead\n",
      "/home/jarvis/anaconda3/lib/python3.7/site-packages/ipykernel_launcher.py:4: DeprecationWarning: time.clock has been deprecated in Python 3.3 and will be removed from Python 3.8: use time.perf_counter or time.process_time instead\n",
      "  after removing the cwd from sys.path.\n",
      "/home/jarvis/anaconda3/lib/python3.7/site-packages/ipykernel_launcher.py:40: DeprecationWarning: time.clock has been deprecated in Python 3.3 and will be removed from Python 3.8: use time.perf_counter or time.process_time instead\n",
      "/home/jarvis/anaconda3/lib/python3.7/site-packages/ipykernel_launcher.py:4: DeprecationWarning: time.clock has been deprecated in Python 3.3 and will be removed from Python 3.8: use time.perf_counter or time.process_time instead\n",
      "  after removing the cwd from sys.path.\n",
      "/home/jarvis/anaconda3/lib/python3.7/site-packages/ipykernel_launcher.py:40: DeprecationWarning: time.clock has been deprecated in Python 3.3 and will be removed from Python 3.8: use time.perf_counter or time.process_time instead\n"
     ]
    }
   ],
   "source": [
    "models = [naive_bayes.BernoulliNB(),svm.SVC(kernel='rbf', gamma=0.58, C=0.81),tree.DecisionTreeClassifier(random_state=0),ensemble.RandomForestClassifier(criterion='entropy', n_jobs = 10),linear_model.LogisticRegression(),linear_model.SGDClassifier(),ensemble.GradientBoostingClassifier()]\n",
    "\n",
    "j = 0\n",
    "for each in models:\n",
    "    computation_test(each)"
   ]
  },
  {
   "cell_type": "code",
   "execution_count": null,
   "metadata": {},
   "outputs": [],
   "source": []
  }
 ],
 "metadata": {
  "kernelspec": {
   "display_name": "Python 3",
   "language": "python",
   "name": "python3"
  },
  "language_info": {
   "codemirror_mode": {
    "name": "ipython",
    "version": 3
   },
   "file_extension": ".py",
   "mimetype": "text/x-python",
   "name": "python",
   "nbconvert_exporter": "python",
   "pygments_lexer": "ipython3",
   "version": "3.7.1"
  }
 },
 "nbformat": 4,
 "nbformat_minor": 2
}
